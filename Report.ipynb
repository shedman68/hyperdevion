{
 "cells": [
  {
   "cell_type": "markdown",
   "metadata": {
    "id": "_LXpBJXZLYoh"
   },
   "source": [
    "Write the code needed to produce a report that provides the following information:\n",
    "* Compare the average income based on ethnicity.\n",
    "* On average, do married or single people have a higher balance?\n",
    "* What is the highest income in our dataset?\n",
    "* What is the lowest income in our dataset?\n",
    "* How many cards do we have recorded in our dataset? (Hint: use `sum()`)\n",
    "* How many females do we have information for vs how many males? (Hint: use `count()` for a list of all methods for computation of descriptive stats, explore the [pandas documentation](https://pandas.pydata.org/pandas-docs/stable/reference/frame.html#computations-descriptive-stats)).\n",
    "\n",
    "\n"
   ]
  },
  {
   "cell_type": "code",
   "execution_count": 1,
   "metadata": {
    "id": "h0LVvvnfJsg5"
   },
   "outputs": [],
   "source": [
    "# Import pandas\n",
    "import pandas as pd"
   ]
  },
  {
   "cell_type": "code",
   "execution_count": 2,
   "metadata": {
    "id": "rv2oLRnPK36J"
   },
   "outputs": [],
   "source": [
    "# Create a DataFrame with balance.txt\n",
    "df = pd.read_csv('balance.txt', delim_whitespace=True)"
   ]
  },
  {
   "cell_type": "code",
   "execution_count": 4,
   "metadata": {},
   "outputs": [
    {
     "name": "stdout",
     "output_type": "stream",
     "text": [
      "Ethnicity\n",
      "African American    47.682101\n",
      "Asian               44.187833\n",
      "Caucasian           44.521945\n",
      "Name: Income, dtype: float64\n"
     ]
    }
   ],
   "source": [
    "# Compare the average income based on ethnicity.\n",
    "average_income_by_ethnicity = df.groupby('Ethnicity')['Income'].mean()\n",
    "print(average_income_by_ethnicity)"
   ]
  },
  {
   "cell_type": "code",
   "execution_count": 19,
   "metadata": {},
   "outputs": [
    {
     "name": "stdout",
     "output_type": "stream",
     "text": [
      "Here are the results of your request: \n",
      " Married\n",
      "No     13.493509\n",
      "Yes    13.388473\n",
      "Name: Balance, dtype: float64\n",
      "The difference in average balance between married and single people is:\n",
      " Married\n",
      "No     0.000000\n",
      "Yes   -0.105036\n",
      "Name: Balance, dtype: float64\n",
      "Balance is higher for single.\n"
     ]
    }
   ],
   "source": [
    "# Determine if balance is higher for married or single\n",
    "Balance_Married = df.groupby('Married')['Balance'].mean()\n",
    "print(\"\"\"Here are the results of your request: \n",
    "\"\"\", Balance_Married) \n",
    "\n",
    "Balance_Single = df[df['Married'] == 'No']['Balance'].mean()\n",
    "difference = Balance_Married - Balance_Single\n",
    "\n",
    "if difference['Yes'] > 0:\n",
    "    balance_comparison = \"Balance is higher for married.\"\n",
    "else:\n",
    "    balance_comparison = \"Balance is higher for single.\"\n",
    "\n",
    "print(\"The difference in average balance between married and single people is:\\n\", difference)\n",
    "print(balance_comparison)"
   ]
  },
  {
   "cell_type": "code",
   "execution_count": 20,
   "metadata": {},
   "outputs": [
    {
     "name": "stdout",
     "output_type": "stream",
     "text": [
      "The highest income in our dataset is: 186.634\n"
     ]
    }
   ],
   "source": [
    "# What is the highest income in our dataset?\n",
    "highest_income = df['Income'].max()\n",
    "\n",
    "print(\"The highest income in our dataset is:\", highest_income)"
   ]
  },
  {
   "cell_type": "code",
   "execution_count": 21,
   "metadata": {},
   "outputs": [
    {
     "name": "stdout",
     "output_type": "stream",
     "text": [
      "The lowest income in our dataset is:  10.354\n"
     ]
    }
   ],
   "source": [
    "# What is the lowest income in our dataset?\n",
    "lowest_income = df[\"Income\"].min()\n",
    "\n",
    "print(\"The lowest income in our dataset is: \", lowest_income)"
   ]
  },
  {
   "cell_type": "code",
   "execution_count": 22,
   "metadata": {},
   "outputs": [
    {
     "name": "stdout",
     "output_type": "stream",
     "text": [
      "We have 1183 cards recorded in our dataset.\n"
     ]
    }
   ],
   "source": [
    "# How many cards do we have recorded in our dataset? \n",
    "num_cards = df['Cards'].sum()\n",
    "\n",
    "print(f\"We have {num_cards} cards recorded in our dataset.\")"
   ]
  },
  {
   "cell_type": "code",
   "execution_count": 23,
   "metadata": {},
   "outputs": [
    {
     "name": "stdout",
     "output_type": "stream",
     "text": [
      "We have information for 207 females and 193 males in our dataset.\n"
     ]
    }
   ],
   "source": [
    "# How many females do we have information for vs how many males?\n",
    "num_females = df[df['Gender'] == 'Female']['Gender'].count()\n",
    "num_males = df[df['Gender'] == 'Male']['Gender'].count()\n",
    "\n",
    "print(f\"We have information for {num_females} females and {num_males} males in our dataset.\")"
   ]
  },
  {
   "cell_type": "code",
   "execution_count": null,
   "metadata": {},
   "outputs": [],
   "source": []
  }
 ],
 "metadata": {
  "colab": {
   "provenance": []
  },
  "kernelspec": {
   "display_name": "Python 3 (ipykernel)",
   "language": "python",
   "name": "python3"
  },
  "language_info": {
   "codemirror_mode": {
    "name": "ipython",
    "version": 3
   },
   "file_extension": ".py",
   "mimetype": "text/x-python",
   "name": "python",
   "nbconvert_exporter": "python",
   "pygments_lexer": "ipython3",
   "version": "3.11.5"
  }
 },
 "nbformat": 4,
 "nbformat_minor": 1
}
